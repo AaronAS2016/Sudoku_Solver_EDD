{
 "cells": [
  {
   "cell_type": "markdown",
   "metadata": {},
   "source": [
    "# Informe"
   ]
  },
  {
   "cell_type": "markdown",
   "metadata": {},
   "source": [
    "Participantes del Grupo\n",
    "- Aaron Saban\n",
    "- Christian Maldonado\n",
    "- Micaela Cardoso\n",
    "\n",
    "\n",
    "\n"
   ]
  },
  {
   "cell_type": "markdown",
   "metadata": {},
   "source": [
    "## Ejemplo funcional"
   ]
  },
  {
   "cell_type": "code",
   "execution_count": 9,
   "metadata": {},
   "outputs": [
    {
     "name": "stdout",
     "output_type": "stream",
     "text": "El sudoku a solucionar es ...\n\n\n7 8 0  | 4 0 0  | 1 2 0\n6 0 0  | 0 7 5  | 0 0 9\n0 0 0  | 6 0 1  | 0 7 8\n- - - - - - - - - - - -\n0 0 7  | 0 4 0  | 2 6 0\n0 0 1  | 0 5 0  | 9 3 0\n9 0 4  | 0 6 0  | 0 0 5\n- - - - - - - - - - - -\n0 7 0  | 3 0 0  | 0 1 2\n1 2 0  | 0 0 7  | 4 0 0\n0 4 9  | 2 0 6  | 0 0 7\n\n\n=========Solucion============\n\n\n7 8 5  | 4 3 9  | 1 2 6\n6 1 2  | 8 7 5  | 3 4 9\n4 9 3  | 6 2 1  | 5 7 8\n- - - - - - - - - - - -\n8 5 7  | 9 4 3  | 2 6 1\n2 6 1  | 7 5 8  | 9 3 4\n9 3 4  | 1 6 2  | 7 8 5\n- - - - - - - - - - - -\n5 7 8  | 3 9 4  | 6 1 2\n1 2 6  | 5 8 7  | 4 9 3\n3 4 9  | 2 1 6  | 8 5 7\n\n\n"
    }
   ],
   "source": [
    "from solver import Solver\n",
    "from reader import Reader\n",
    "import pickle\n",
    "import csv\n",
    "class Prueba:\n",
    "\n",
    "    \n",
    "    def __init__(self):\n",
    "        self._sudoku = Solver()\n",
    "        self._reader = Reader()\n",
    "        self.iniciar()\n",
    "\n",
    "    def iniciar(self):\n",
    "        pathFile = 'boards.csv'\n",
    "        self._reader.setFile(pathFile)\n",
    "        board = self._reader.readFileAsCSV()\n",
    "        self.solveBoards(board)\n",
    "\n",
    "    def readFileAsCSV(self, delimiter=None):\n",
    "\n",
    "        # Use the default delimiter\n",
    "        if delimiter is None:\n",
    "            delimiter = self._delimiter\n",
    "\n",
    "        if(self.checkIfExistFile()):\n",
    "\n",
    "            try:\n",
    "                with open(self._filepath, 'r') as readerCsv:\n",
    "                    reader = csv.reader(readerCsv, delimiter=delimiter)\n",
    "                    data = []\n",
    "                    for row in reader:\n",
    "                        row = [int(i) for i in row]\n",
    "                        data.append(row)\n",
    "\n",
    "            except ValueError:\n",
    "                print(\"Error trying to read the file: \" + ValueError)\n",
    "            return data\n",
    "        else:\n",
    "            raise ValueError(\"Ups!, The filepath looks wrong, try to change the filepath\")\n",
    "\n",
    "    def splitBoards(self, boards):\n",
    "\n",
    "        lista = []\n",
    "\n",
    "        lista_a_agregar = []\n",
    "\n",
    "        contador = 0\n",
    "\n",
    "        for fila in boards:\n",
    "            contador += 1\n",
    "            lista_a_agregar.append(list(map(int, fila)))\n",
    "            if contador == 9:\n",
    "                lista.append(lista_a_agregar)\n",
    "                lista_a_agregar = []\n",
    "                contador = 0\n",
    "        return lista\n",
    "\n",
    "    def solveBoards (self, board) :\n",
    "        sudoku_solved = []\n",
    "        if len(board) > 9:\n",
    "            boards = self.splitBoards(board)\n",
    "            for newboard in boards:\n",
    "                sudoku_solved += self.solveBoards(newboard)\n",
    "        else:\n",
    "            sudoku_solved += self.solveBoard(board)\n",
    "        return sudoku_solved\n",
    "    \n",
    "    def solveBoard(self, board):\n",
    "        print(\"El sudoku a solucionar es ...\")\n",
    "        print(\"\\n\")\n",
    "        self._sudoku.print_board(board)\n",
    "        print(\"\\n\")\n",
    "        print(\"=========Solucion============\")\n",
    "        print(\"\\n\")\n",
    "        sudoku_solved = self._sudoku.solve(board)\n",
    "\n",
    "        self._sudoku.print_board(sudoku_solved)\n",
    "        print(\"\\n\")\n",
    "\n",
    "        return sudoku_solved\n",
    "    \n",
    "prueba = Prueba()"
   ]
  },
  {
   "cell_type": "code",
   "execution_count": null,
   "metadata": {},
   "outputs": [],
   "source": []
  },
  {
   "cell_type": "code",
   "execution_count": null,
   "metadata": {},
   "outputs": [],
   "source": []
  }
 ],
 "metadata": {
  "kernelspec": {
   "display_name": "Python 3",
   "language": "python",
   "name": "python3"
  },
  "language_info": {
   "codemirror_mode": {
    "name": "ipython",
    "version": 3
   },
   "file_extension": ".py",
   "mimetype": "text/x-python",
   "name": "python",
   "nbconvert_exporter": "python",
   "pygments_lexer": "ipython3",
   "version": "3.7.4"
  }
 },
 "nbformat": 4,
 "nbformat_minor": 2
}